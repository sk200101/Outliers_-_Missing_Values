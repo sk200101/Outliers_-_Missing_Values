{
  "nbformat": 4,
  "nbformat_minor": 0,
  "metadata": {
    "colab": {
      "name": "19 Outliers & Missing Values.ipynb",
      "provenance": [],
      "collapsed_sections": [],
      "authorship_tag": "ABX9TyPa2ipGHpDsrzXCLJv9Gsu5",
      "include_colab_link": true
    },
    "kernelspec": {
      "name": "python3",
      "display_name": "Python 3"
    }
  },
  "cells": [
    {
      "cell_type": "markdown",
      "metadata": {
        "id": "view-in-github",
        "colab_type": "text"
      },
      "source": [
        "<a href=\"https://colab.research.google.com/github/sandipanpaul21/EDA-in-Python/blob/main/19_Outliers_%26_Missing_Values.ipynb\" target=\"_parent\"><img src=\"https://colab.research.google.com/assets/colab-badge.svg\" alt=\"Open In Colab\"/></a>"
      ]
    },
    {
      "cell_type": "markdown",
      "metadata": {
        "id": "4DtthpEygCWq"
      },
      "source": [
        "**OUTLIERS**\n",
        "  - Outlier is a data point that differs significantly from other observations\n",
        "  - Outlier may be due to variability in the measurement or it may indicate experimental error\n",
        "  - Outlier are sometimes excluded from the data set\n",
        "\n",
        "**Technique to Detect Outlier** \n",
        "1. Box Plot \n",
        "2. Z-Score\n",
        "\n",
        "**Box Plot**\n",
        "  - Box plot is the non-parametric method\n",
        "  - It display variation in without making any assumptions of the underlying distribution\n",
        "  - Graphical representation which represent follwing values as follows\n",
        "    1. *Minimum/Lower Range :* the lowest data point excluding any outliers\n",
        "    2. *Maximum/Upper Range :* the largest data point excluding any outliers\n",
        "    3. *Median (Q2 / 50th percentile) :* the middle value of the dataset\n",
        "    4. *First quartile (Q1 / 25th percentile) :* \n",
        "        - Also known as the lower quartile qn(0.25)\n",
        "        - It is the median of the lower half of the dataset\n",
        "    5. *Third quartile (Q3 / 75th percentile) :* \n",
        "        -  Also known as the upper quartile qn(0.75)\n",
        "        -it is the median of the upper half of the dataset\n",
        "    6. *Outlier are shown as dot or star* \n",
        "\n",
        "**Z Score**\n",
        "  - It finds the distribution of Normal Data\n",
        "  - In Normal Distribution, Mean is 0 and Standard Deviation is 1\n",
        "  - In Z Score we will rescale the data to the center and nd check for the data which are too far from center will be TREATED AS OUTLIER\n",
        "  - In most case we take the value upto 3 (3 SD of mean, 99.7% of values within)  \n",
        "  - So Z Score which are more than 3 will be treated as Outliers\n",
        "\n",
        "**Outlier Treatment**\n",
        "  - Remove the outlier from the dataset based on Upper and Lower Range respectively\n",
        "\n",
        "**MISSING VALUES**\n",
        "  - The absence of values is a cause of concern for datasets and in Machine Learning model\n",
        "  - When collecting observations about a variable, missing values can occur due to\n",
        "     1. An error in machinery/equipment\n",
        "     2. Error on part of the researcher\n",
        "     3. Unavailable respondents\n",
        "     4. Accidental deletion of observations\n",
        "     5. Forgetfulness on part of the respondents\n",
        "     6. Error in accounting, etc.\n",
        "\n",
        "**Methods to impute Missing Values** \n",
        "  1. Mean\n",
        "  2. Median\n",
        "  3. Mode \n",
        "  4. KNN Imputation\n",
        "\n",
        "**Impute with**\n",
        "  1. *Mean / Median Value* - For Continuous Data\n",
        "  2. *Mode Value* - For Categorical Data \n",
        "\n",
        "**KNN Imputation**\n",
        "  - Each sample’s missing values are imputed using the mean value from n_neighbors nearest neighbors found in the training set\n",
        "  - Two samples are close if the features that neither is missing are close\n",
        "  - By default, a euclidean distance metric that supports missing values\n",
        "  - nan_euclidean_distances, is used to find the nearest neighbors\n",
        "  - For imputing missing values in CATEGORICAL VALUES, we have to encode the categorical values into numeric values\n",
        "  - kNNImputer works only for numeric variables\n",
        "  - We can perform this using a mapping of categories to numeric variables."
      ]
    },
    {
      "cell_type": "code",
      "metadata": {
        "id": "9fw5rcNiviB0",
        "colab": {
          "base_uri": "https://localhost:8080/",
          "height": 73
        },
        "outputId": "6d6c1611-84d2-4854-e3d2-74398d83f790"
      },
      "source": [
        "# Libraries \n",
        "from sklearn import datasets \n",
        "import pandas as pd\n",
        "import seaborn as sns\n",
        "import matplotlib.pyplot as plt\n",
        "import numpy as np\n",
        "from scipy import stats\n",
        "from sklearn.impute import KNNImputer"
      ],
      "execution_count": null,
      "outputs": [
        {
          "output_type": "stream",
          "text": [
            "/usr/local/lib/python3.6/dist-packages/statsmodels/tools/_testing.py:19: FutureWarning: pandas.util.testing is deprecated. Use the functions in the public API at pandas.testing instead.\n",
            "  import pandas.util.testing as tm\n"
          ],
          "name": "stderr"
        }
      ]
    },
    {
      "cell_type": "code",
      "metadata": {
        "id": "-OxhPrdevCL8"
      },
      "source": [
        "# Load the Datasets (For indepth analysis please refer to Part O1 All About Datasets)\n",
        "\n",
        "# Iris Dataset for Classification\n",
        "# Load Dataset\n",
        "iris = datasets.load_iris()\n",
        "# Convert to DataFrame\n",
        "iris_pd = pd.DataFrame(iris.data)\n",
        "# Feature Name\n",
        "iris_pd.columns = iris.feature_names\n",
        "# Target Variable\n",
        "iris_pd[\"Class\"] = iris.target\n",
        "# iris_pd is the final dataset\n",
        "\n",
        "# Boston Dataset for Regression\n",
        "boston = datasets.load_boston()\n",
        "boston_pd = pd.DataFrame(boston.data)\n",
        "boston_pd.columns = boston.feature_names\n",
        "boston_pd[\"MEDV\"] = boston.target"
      ],
      "execution_count": null,
      "outputs": []
    },
    {
      "cell_type": "code",
      "metadata": {
        "id": "NmGBhf3PvXIg",
        "colab": {
          "base_uri": "https://localhost:8080/",
          "height": 664
        },
        "outputId": "4e0d621c-c02a-457d-ae72-201829c5ec79"
      },
      "source": [
        "# Outlier Detection\n",
        "# Boxplot - Outlier shown with a dot, small circle or star\n",
        "\n",
        "# For IRIS Dataset\n",
        "fig, ax = plt.subplots(figsize=(11,11)) #Sample figsize in inches,change the number accordingly\n",
        "sns.boxplot(data = boston_pd,orient = 'h',ax=ax)\n",
        "\n",
        "# Inference :\n",
        "# Too Confusing, lets choose variable one "
      ],
      "execution_count": null,
      "outputs": [
        {
          "output_type": "execute_result",
          "data": {
            "text/plain": [
              "<matplotlib.axes._subplots.AxesSubplot at 0x7f5c16f41160>"
            ]
          },
          "metadata": {
            "tags": []
          },
          "execution_count": 4
        },
        {
          "output_type": "display_data",
          "data": {
            "image/png": "[encoded data removed]",
            "text/plain": [
              "<Figure size 792x792 with 1 Axes>"
            ]
          },
          "metadata": {
            "tags": [],
            "needs_background": "light"
          }
        }
      ]
    },
    {
      "cell_type": "code",
      "metadata": {
        "id": "JUGLJVuMv2fq",
        "colab": {
          "base_uri": "https://localhost:8080/",
          "height": 603
        },
        "outputId": "d59f1b0f-917b-4023-da7c-b6081ec6dc8d"
      },
      "source": [
        "# Considering only one column in Boston Dataset i.e, 'DIS'\n",
        "print(\"DIS Column :\")\n",
        "print(\"SUMMARY : \")\n",
        "print(boston_pd['DIS'].describe().round(2))\n",
        "\n",
        "def boxplot(datacolumn):\n",
        "  sorted(datacolumn)\n",
        "  Q1,Q3 = np.percentile(datacolumn , [25,75])\n",
        "  IQR = (Q3 - Q1)\n",
        "  lower_range = Q1 - (1.5 * IQR)\n",
        "  upper_range = Q3 + (1.5 * IQR)\n",
        "  return Q1,Q3,IQR,lower_range,upper_range\n",
        "\n",
        "Q1,Q3,IQR,lower_range,upper_range = boxplot(boston_pd.DIS)\n",
        "print(\"BOX PLOT VALUES : \")\n",
        "print(\"First Quartile :\",Q1.round(2))\n",
        "print(\"Second Quartile :\",Q3.round(2))\n",
        "print(\"IQR Range :\",IQR.round(2))\n",
        "print(\"Lower Range :\",lower_range.round(2))\n",
        "print(\"Upper Range :\",upper_range.round(2))\n",
        "\n",
        "sns.boxplot(boston_pd['DIS'])\n",
        "# Inference : \n",
        "# For DIS Column in Boston Dataset\n",
        "# Lower Range : -2 so anything less than -2 will be treated as Outlier\n",
        "# Minimum Value : 1.1 which is greater than -2 so not an outlier\n",
        "# 25% Percentile / 1st Quartile / Lower Quartile / Q1 : 2.1\n",
        "# 50% Percentile / Median / 2nd Quantile / Q2 : 3.2\n",
        "# 75% Percentile / 3rd Quartile / Higher Quartile / Q3 : 5.1\n",
        "# IQR Range / Q3 - Q1 : 3.08\n",
        "# Lower Range : 9.8 so anything more than 9.8 will be treated as Outlier\n",
        "# Maximum Value : 12.1 which is greater than 9.8 so IT IS AN OUTLIER"
      ],
      "execution_count": null,
      "outputs": [
        {
          "output_type": "stream",
          "text": [
            "DIS Column :\n",
            "SUMMARY : \n",
            "count    506.00\n",
            "mean       3.80\n",
            "std        2.11\n",
            "min        1.13\n",
            "25%        2.10\n",
            "50%        3.21\n",
            "75%        5.19\n",
            "max       12.13\n",
            "Name: DIS, dtype: float64\n",
            "BOX PLOT VALUES : \n",
            "First Quartile : 2.1\n",
            "Second Quartile : 5.19\n",
            "IQR Range : 3.09\n",
            "Lower Range : -2.53\n",
            "Upper Range : 9.82\n"
          ],
          "name": "stdout"
        },
        {
          "output_type": "execute_result",
          "data": {
            "text/plain": [
              "<matplotlib.axes._subplots.AxesSubplot at 0x7f5c1646c940>"
            ]
          },
          "metadata": {
            "tags": []
          },
          "execution_count": 5
        },
        {
          "output_type": "display_data",
          "data": {
            "image/png": "[encoded data removed]",
            "text/plain": [
              "<Figure size 432x288 with 1 Axes>"
            ]
          },
          "metadata": {
            "tags": [],
            "needs_background": "light"
          }
        }
      ]
    },
    {
      "cell_type": "code",
      "metadata": {
        "id": "wLpr2wF9wpkK",
        "colab": {
          "base_uri": "https://localhost:8080/",
          "height": 143
        },
        "outputId": "c39b7834-09bc-444d-c537-f9c6500a19e7"
      },
      "source": [
        "# Upper and Lower Range of the dataset\n",
        "\n",
        "upper_outlier = len(boston_pd[boston_pd.DIS > upper_range])\n",
        "lower_outlier = len(boston_pd[boston_pd.DIS < lower_range])\n",
        "total = len(boston_pd[(boston_pd.DIS < lower_range) | (boston_pd.DIS > upper_range)])\n",
        "\n",
        "print(\"Total Range is as folows\")\n",
        "print(\"Lower Range :\",lower_range.round(2))\n",
        "print(\"Upper Range :\", upper_range.round(2))\n",
        "print(\"So Number should not be less than 'Lower Range' or more than 'Upper Range' else OUTLIERS\")\n",
        "print(\"Total Outlier ABOVE UPPER RANGE :\",upper_outlier)\n",
        "print(\"Total Outlier BELOW LOWER RANGE :\",lower_outlier)\n",
        "print(\"Total Outlier in 'DIS' Column in Boston Dataset :\", total)"
      ],
      "execution_count": null,
      "outputs": [
        {
          "output_type": "stream",
          "text": [
            "Total Range is as folows\n",
            "Lower Range : -2.53\n",
            "Upper Range : 9.82\n",
            "So Number should not be less than 'Lower Range' or more than 'Upper Range' else OUTLIERS\n",
            "Total Outlier ABOVE UPPER RANGE : 5\n",
            "Total Outlier BELOW LOWER RANGE : 0\n",
            "Total Outlier in 'DIS' Column in Boston Dataset : 5\n"
          ],
          "name": "stdout"
        }
      ]
    },
    {
      "cell_type": "code",
      "metadata": {
        "id": "CCtFnOG5zjJ-",
        "colab": {
          "base_uri": "https://localhost:8080/",
          "height": 384
        },
        "outputId": "21e19afd-c609-4f2c-955c-5d85bf5c1003"
      },
      "source": [
        "# Z Score for Detecting Outlier\n",
        "\n",
        "z = np.abs(stats.zscore(boston_pd.DIS))\n",
        "print(\"First 5 rows of Z-Score are\")\n",
        "print(z[:5]) \n",
        "print(\"\\n\")\n",
        "print(\"Filtering out Z-Score > 3\")\n",
        "print(\"Row Number where Z-Score greater than 3\")\n",
        "print(np.where(z>3))\n",
        "\n",
        "print(\"\\n\")\n",
        "print(\"Checking exact value of the 'DIS' column which are outliers\")\n",
        "boston_pd.loc[[351,352,353,354,355],['DIS']]\n",
        "\n",
        "# Inference : \n",
        "# Total Outliers are 5 whose row number are 351,352,353,354 and 355\n",
        "# All the outlier are having value more than 9.8\n",
        "# So Box Plot and Z score almost give exact same output for detecting outlier "
      ],
      "execution_count": null,
      "outputs": [
        {
          "output_type": "stream",
          "text": [
            "First 5 rows of Z-Score are\n",
            "[0.1402136  0.55715988 0.55715988 1.07773662 1.07773662]\n",
            "\n",
            "\n",
            "Filtering out Z-Score > 3\n",
            "Row Number where Z-Score greater than 3\n",
            "(array([351, 352, 353, 354, 355]),)\n",
            "\n",
            "\n",
            "Checking exact value of the 'DIS' column which are outliers\n"
          ],
          "name": "stdout"
        },
        {
          "output_type": "execute_result",
          "data": {
            "text/html": [
              "<div>\n",
              "<style scoped>\n",
              "    .dataframe tbody tr th:only-of-type {\n",
              "        vertical-align: middle;\n",
              "    }\n",
              "\n",
              "    .dataframe tbody tr th {\n",
              "        vertical-align: top;\n",
              "    }\n",
              "\n",
              "    .dataframe thead th {\n",
              "        text-align: right;\n",
              "    }\n",
              "</style>\n",
              "<table border=\"1\" class=\"dataframe\">\n",
              "  <thead>\n",
              "    <tr style=\"text-align: right;\">\n",
              "      <th></th>\n",
              "      <th>DIS</th>\n",
              "    </tr>\n",
              "  </thead>\n",
              "  <tbody>\n",
              "    <tr>\n",
              "      <th>351</th>\n",
              "      <td>10.7103</td>\n",
              "    </tr>\n",
              "    <tr>\n",
              "      <th>352</th>\n",
              "      <td>10.7103</td>\n",
              "    </tr>\n",
              "    <tr>\n",
              "      <th>353</th>\n",
              "      <td>12.1265</td>\n",
              "    </tr>\n",
              "    <tr>\n",
              "      <th>354</th>\n",
              "      <td>10.5857</td>\n",
              "    </tr>\n",
              "    <tr>\n",
              "      <th>355</th>\n",
              "      <td>10.5857</td>\n",
              "    </tr>\n",
              "  </tbody>\n",
              "</table>\n",
              "</div>"
            ],
            "text/plain": [
              "         DIS\n",
              "351  10.7103\n",
              "352  10.7103\n",
              "353  12.1265\n",
              "354  10.5857\n",
              "355  10.5857"
            ]
          },
          "metadata": {
            "tags": []
          },
          "execution_count": 7
        }
      ]
    },
    {
      "cell_type": "code",
      "metadata": {
        "id": "pJ31WLbZRMCl",
        "colab": {
          "base_uri": "https://localhost:8080/",
          "height": 197
        },
        "outputId": "bd2f6263-c9dc-4efd-e95b-45c62a400322"
      },
      "source": [
        "# Outlier Treatment \n",
        "\n",
        "# Replacing Value below lower range with lower range value\n",
        "# AND Replacing Value above higher range with higher range value\n",
        "\n",
        "print(\"Lower Range :\",lower_range.round(1))\n",
        "print(\"Upper Range :\",upper_range.round(1))\n",
        "boston_pd['DIS'] = np.where(boston_pd['DIS'] < -2.5, -2.5, boston_pd['DIS'])\n",
        "boston_pd['DIS'] = np.where(boston_pd['DIS'] > 9.8, 9.8, boston_pd['DIS'])\n",
        "\n",
        "print(\"After Outlier Treatment\")\n",
        "print(boston_pd.loc[[351,352,353,354,355],['DIS']])\n",
        "print(\"Hence Outliers values are replaced\")"
      ],
      "execution_count": null,
      "outputs": [
        {
          "output_type": "stream",
          "text": [
            "Lower Range : -2.5\n",
            "Upper Range : 9.8\n",
            "After Outlier Treatment\n",
            "     DIS\n",
            "351  9.8\n",
            "352  9.8\n",
            "353  9.8\n",
            "354  9.8\n",
            "355  9.8\n",
            "Hence Outliers values are replaced\n"
          ],
          "name": "stdout"
        }
      ]
    },
    {
      "cell_type": "code",
      "metadata": {
        "id": "tjEKcJqUXWLj",
        "colab": {
          "base_uri": "https://localhost:8080/",
          "height": 309
        },
        "outputId": "e70891d2-6c28-4c72-aefb-1d40bac9ec37"
      },
      "source": [
        "# Missing Values\n",
        "# For this we are considering FLIGHT DATASET\n",
        "\n",
        "from nycflights13 import flights\n",
        "flights.tail()"
      ],
      "execution_count": null,
      "outputs": [
        {
          "output_type": "execute_result",
          "data": {
            "text/html": [
              "<div>\n",
              "<style scoped>\n",
              "    .dataframe tbody tr th:only-of-type {\n",
              "        vertical-align: middle;\n",
              "    }\n",
              "\n",
              "    .dataframe tbody tr th {\n",
              "        vertical-align: top;\n",
              "    }\n",
              "\n",
              "    .dataframe thead th {\n",
              "        text-align: right;\n",
              "    }\n",
              "</style>\n",
              "<table border=\"1\" class=\"dataframe\">\n",
              "  <thead>\n",
              "    <tr style=\"text-align: right;\">\n",
              "      <th></th>\n",
              "      <th>year</th>\n",
              "      <th>month</th>\n",
              "      <th>day</th>\n",
              "      <th>dep_time</th>\n",
              "      <th>sched_dep_time</th>\n",
              "      <th>dep_delay</th>\n",
              "      <th>arr_time</th>\n",
              "      <th>sched_arr_time</th>\n",
              "      <th>arr_delay</th>\n",
              "      <th>carrier</th>\n",
              "      <th>flight</th>\n",
              "      <th>tailnum</th>\n",
              "      <th>origin</th>\n",
              "      <th>dest</th>\n",
              "      <th>air_time</th>\n",
              "      <th>distance</th>\n",
              "      <th>hour</th>\n",
              "      <th>minute</th>\n",
              "      <th>time_hour</th>\n",
              "    </tr>\n",
              "  </thead>\n",
              "  <tbody>\n",
              "    <tr>\n",
              "      <th>336771</th>\n",
              "      <td>2013</td>\n",
              "      <td>9</td>\n",
              "      <td>30</td>\n",
              "      <td>NaN</td>\n",
              "      <td>1455</td>\n",
              "      <td>NaN</td>\n",
              "      <td>NaN</td>\n",
              "      <td>1634</td>\n",
              "      <td>NaN</td>\n",
              "      <td>9E</td>\n",
              "      <td>3393</td>\n",
              "      <td>NaN</td>\n",
              "      <td>JFK</td>\n",
              "      <td>DCA</td>\n",
              "      <td>NaN</td>\n",
              "      <td>213</td>\n",
              "      <td>14</td>\n",
              "      <td>55</td>\n",
              "      <td>2013-09-30T18:00:00Z</td>\n",
              "    </tr>\n",
              "    <tr>\n",
              "      <th>336772</th>\n",
              "      <td>2013</td>\n",
              "      <td>9</td>\n",
              "      <td>30</td>\n",
              "      <td>NaN</td>\n",
              "      <td>2200</td>\n",
              "      <td>NaN</td>\n",
              "      <td>NaN</td>\n",
              "      <td>2312</td>\n",
              "      <td>NaN</td>\n",
              "      <td>9E</td>\n",
              "      <td>3525</td>\n",
              "      <td>NaN</td>\n",
              "      <td>LGA</td>\n",
              "      <td>SYR</td>\n",
              "      <td>NaN</td>\n",
              "      <td>198</td>\n",
              "      <td>22</td>\n",
              "      <td>0</td>\n",
              "      <td>2013-10-01T02:00:00Z</td>\n",
              "    </tr>\n",
              "    <tr>\n",
              "      <th>336773</th>\n",
              "      <td>2013</td>\n",
              "      <td>9</td>\n",
              "      <td>30</td>\n",
              "      <td>NaN</td>\n",
              "      <td>1210</td>\n",
              "      <td>NaN</td>\n",
              "      <td>NaN</td>\n",
              "      <td>1330</td>\n",
              "      <td>NaN</td>\n",
              "      <td>MQ</td>\n",
              "      <td>3461</td>\n",
              "      <td>N535MQ</td>\n",
              "      <td>LGA</td>\n",
              "      <td>BNA</td>\n",
              "      <td>NaN</td>\n",
              "      <td>764</td>\n",
              "      <td>12</td>\n",
              "      <td>10</td>\n",
              "      <td>2013-09-30T16:00:00Z</td>\n",
              "    </tr>\n",
              "    <tr>\n",
              "      <th>336774</th>\n",
              "      <td>2013</td>\n",
              "      <td>9</td>\n",
              "      <td>30</td>\n",
              "      <td>NaN</td>\n",
              "      <td>1159</td>\n",
              "      <td>NaN</td>\n",
              "      <td>NaN</td>\n",
              "      <td>1344</td>\n",
              "      <td>NaN</td>\n",
              "      <td>MQ</td>\n",
              "      <td>3572</td>\n",
              "      <td>N511MQ</td>\n",
              "      <td>LGA</td>\n",
              "      <td>CLE</td>\n",
              "      <td>NaN</td>\n",
              "      <td>419</td>\n",
              "      <td>11</td>\n",
              "      <td>59</td>\n",
              "      <td>2013-09-30T15:00:00Z</td>\n",
              "    </tr>\n",
              "    <tr>\n",
              "      <th>336775</th>\n",
              "      <td>2013</td>\n",
              "      <td>9</td>\n",
              "      <td>30</td>\n",
              "      <td>NaN</td>\n",
              "      <td>840</td>\n",
              "      <td>NaN</td>\n",
              "      <td>NaN</td>\n",
              "      <td>1020</td>\n",
              "      <td>NaN</td>\n",
              "      <td>MQ</td>\n",
              "      <td>3531</td>\n",
              "      <td>N839MQ</td>\n",
              "      <td>LGA</td>\n",
              "      <td>RDU</td>\n",
              "      <td>NaN</td>\n",
              "      <td>431</td>\n",
              "      <td>8</td>\n",
              "      <td>40</td>\n",
              "      <td>2013-09-30T12:00:00Z</td>\n",
              "    </tr>\n",
              "  </tbody>\n",
              "</table>\n",
              "</div>"
            ],
            "text/plain": [
              "        year  month  day  ...  hour  minute             time_hour\n",
              "336771  2013      9   30  ...    14      55  2013-09-30T18:00:00Z\n",
              "336772  2013      9   30  ...    22       0  2013-10-01T02:00:00Z\n",
              "336773  2013      9   30  ...    12      10  2013-09-30T16:00:00Z\n",
              "336774  2013      9   30  ...    11      59  2013-09-30T15:00:00Z\n",
              "336775  2013      9   30  ...     8      40  2013-09-30T12:00:00Z\n",
              "\n",
              "[5 rows x 19 columns]"
            ]
          },
          "metadata": {
            "tags": []
          },
          "execution_count": 9
        }
      ]
    },
    {
      "cell_type": "code",
      "metadata": {
        "id": "cDWJ32cXiJS7",
        "colab": {
          "base_uri": "https://localhost:8080/",
          "height": 224
        },
        "outputId": "10b2c85b-411f-4f1d-ac9d-6c371ffba2bf"
      },
      "source": [
        "# When there is a missing value, it will show as True\n",
        "\n",
        "data_missing = flights.isna()\n",
        "data_missing.tail()"
      ],
      "execution_count": null,
      "outputs": [
        {
          "output_type": "execute_result",
          "data": {
            "text/html": [
              "<div>\n",
              "<style scoped>\n",
              "    .dataframe tbody tr th:only-of-type {\n",
              "        vertical-align: middle;\n",
              "    }\n",
              "\n",
              "    .dataframe tbody tr th {\n",
              "        vertical-align: top;\n",
              "    }\n",
              "\n",
              "    .dataframe thead th {\n",
              "        text-align: right;\n",
              "    }\n",
              "</style>\n",
              "<table border=\"1\" class=\"dataframe\">\n",
              "  <thead>\n",
              "    <tr style=\"text-align: right;\">\n",
              "      <th></th>\n",
              "      <th>year</th>\n",
              "      <th>month</th>\n",
              "      <th>day</th>\n",
              "      <th>dep_time</th>\n",
              "      <th>sched_dep_time</th>\n",
              "      <th>dep_delay</th>\n",
              "      <th>arr_time</th>\n",
              "      <th>sched_arr_time</th>\n",
              "      <th>arr_delay</th>\n",
              "      <th>carrier</th>\n",
              "      <th>flight</th>\n",
              "      <th>tailnum</th>\n",
              "      <th>origin</th>\n",
              "      <th>dest</th>\n",
              "      <th>air_time</th>\n",
              "      <th>distance</th>\n",
              "      <th>hour</th>\n",
              "      <th>minute</th>\n",
              "      <th>time_hour</th>\n",
              "    </tr>\n",
              "  </thead>\n",
              "  <tbody>\n",
              "    <tr>\n",
              "      <th>336771</th>\n",
              "      <td>False</td>\n",
              "      <td>False</td>\n",
              "      <td>False</td>\n",
              "      <td>True</td>\n",
              "      <td>False</td>\n",
              "      <td>True</td>\n",
              "      <td>True</td>\n",
              "      <td>False</td>\n",
              "      <td>True</td>\n",
              "      <td>False</td>\n",
              "      <td>False</td>\n",
              "      <td>True</td>\n",
              "      <td>False</td>\n",
              "      <td>False</td>\n",
              "      <td>True</td>\n",
              "      <td>False</td>\n",
              "      <td>False</td>\n",
              "      <td>False</td>\n",
              "      <td>False</td>\n",
              "    </tr>\n",
              "    <tr>\n",
              "      <th>336772</th>\n",
              "      <td>False</td>\n",
              "      <td>False</td>\n",
              "      <td>False</td>\n",
              "      <td>True</td>\n",
              "      <td>False</td>\n",
              "      <td>True</td>\n",
              "      <td>True</td>\n",
              "      <td>False</td>\n",
              "      <td>True</td>\n",
              "      <td>False</td>\n",
              "      <td>False</td>\n",
              "      <td>True</td>\n",
              "      <td>False</td>\n",
              "      <td>False</td>\n",
              "      <td>True</td>\n",
              "      <td>False</td>\n",
              "      <td>False</td>\n",
              "      <td>False</td>\n",
              "      <td>False</td>\n",
              "    </tr>\n",
              "    <tr>\n",
              "      <th>336773</th>\n",
              "      <td>False</td>\n",
              "      <td>False</td>\n",
              "      <td>False</td>\n",
              "      <td>True</td>\n",
              "      <td>False</td>\n",
              "      <td>True</td>\n",
              "      <td>True</td>\n",
              "      <td>False</td>\n",
              "      <td>True</td>\n",
              "      <td>False</td>\n",
              "      <td>False</td>\n",
              "      <td>False</td>\n",
              "      <td>False</td>\n",
              "      <td>False</td>\n",
              "      <td>True</td>\n",
              "      <td>False</td>\n",
              "      <td>False</td>\n",
              "      <td>False</td>\n",
              "      <td>False</td>\n",
              "    </tr>\n",
              "    <tr>\n",
              "      <th>336774</th>\n",
              "      <td>False</td>\n",
              "      <td>False</td>\n",
              "      <td>False</td>\n",
              "      <td>True</td>\n",
              "      <td>False</td>\n",
              "      <td>True</td>\n",
              "      <td>True</td>\n",
              "      <td>False</td>\n",
              "      <td>True</td>\n",
              "      <td>False</td>\n",
              "      <td>False</td>\n",
              "      <td>False</td>\n",
              "      <td>False</td>\n",
              "      <td>False</td>\n",
              "      <td>True</td>\n",
              "      <td>False</td>\n",
              "      <td>False</td>\n",
              "      <td>False</td>\n",
              "      <td>False</td>\n",
              "    </tr>\n",
              "    <tr>\n",
              "      <th>336775</th>\n",
              "      <td>False</td>\n",
              "      <td>False</td>\n",
              "      <td>False</td>\n",
              "      <td>True</td>\n",
              "      <td>False</td>\n",
              "      <td>True</td>\n",
              "      <td>True</td>\n",
              "      <td>False</td>\n",
              "      <td>True</td>\n",
              "      <td>False</td>\n",
              "      <td>False</td>\n",
              "      <td>False</td>\n",
              "      <td>False</td>\n",
              "      <td>False</td>\n",
              "      <td>True</td>\n",
              "      <td>False</td>\n",
              "      <td>False</td>\n",
              "      <td>False</td>\n",
              "      <td>False</td>\n",
              "    </tr>\n",
              "  </tbody>\n",
              "</table>\n",
              "</div>"
            ],
            "text/plain": [
              "         year  month    day  dep_time  ...  distance   hour  minute  time_hour\n",
              "336771  False  False  False      True  ...     False  False   False      False\n",
              "336772  False  False  False      True  ...     False  False   False      False\n",
              "336773  False  False  False      True  ...     False  False   False      False\n",
              "336774  False  False  False      True  ...     False  False   False      False\n",
              "336775  False  False  False      True  ...     False  False   False      False\n",
              "\n",
              "[5 rows x 19 columns]"
            ]
          },
          "metadata": {
            "tags": []
          },
          "execution_count": 10
        }
      ]
    },
    {
      "cell_type": "code",
      "metadata": {
        "id": "FnjvC0QLicFM",
        "colab": {
          "base_uri": "https://localhost:8080/",
          "height": 395
        },
        "outputId": "ae9145bf-64b1-44ce-f4ee-423b6c4fae00"
      },
      "source": [
        "# Column Wise Missing Value Count\n",
        "\n",
        "data_missing_sum = data_missing.sum()\n",
        "print(\"DATA MISSING COLUMN WISE\")\n",
        "print(data_missing_sum)\n",
        "\n",
        "# Inference : \n",
        "# dep_time has 8255 missing data points\n",
        "# arr_time has 8713 missing data points"
      ],
      "execution_count": null,
      "outputs": [
        {
          "output_type": "stream",
          "text": [
            "DATA MISSING COLUMN WISE\n",
            "year                 0\n",
            "month                0\n",
            "day                  0\n",
            "dep_time          8255\n",
            "sched_dep_time       0\n",
            "dep_delay         8255\n",
            "arr_time          8713\n",
            "sched_arr_time       0\n",
            "arr_delay         9430\n",
            "carrier              0\n",
            "flight               0\n",
            "tailnum           2512\n",
            "origin               0\n",
            "dest                 0\n",
            "air_time          9430\n",
            "distance             0\n",
            "hour                 0\n",
            "minute               0\n",
            "time_hour            0\n",
            "dtype: int64\n"
          ],
          "name": "stdout"
        }
      ]
    },
    {
      "cell_type": "code",
      "metadata": {
        "id": "9BT7InXxij0s",
        "colab": {
          "base_uri": "https://localhost:8080/",
          "height": 395
        },
        "outputId": "03253c71-bf8c-4636-e798-a75b7fea6009"
      },
      "source": [
        "# Column Wise Missing Value Percentage\n",
        "\n",
        "print(\"Data Missing Column Wise Percentage\")\n",
        "(data_missing_sum/len(flights)).round(2)*100\n",
        "\n",
        "# Inference : \n",
        "# dep_time column has 2% Data Missing\n",
        "# arr_time column has 3% Data Missing"
      ],
      "execution_count": null,
      "outputs": [
        {
          "output_type": "stream",
          "text": [
            "Data Missing Column Wise Percentage\n"
          ],
          "name": "stdout"
        },
        {
          "output_type": "execute_result",
          "data": {
            "text/plain": [
              "year              0.0\n",
              "month             0.0\n",
              "day               0.0\n",
              "dep_time          2.0\n",
              "sched_dep_time    0.0\n",
              "dep_delay         2.0\n",
              "arr_time          3.0\n",
              "sched_arr_time    0.0\n",
              "arr_delay         3.0\n",
              "carrier           0.0\n",
              "flight            0.0\n",
              "tailnum           1.0\n",
              "origin            0.0\n",
              "dest              0.0\n",
              "air_time          3.0\n",
              "distance          0.0\n",
              "hour              0.0\n",
              "minute            0.0\n",
              "time_hour         0.0\n",
              "dtype: float64"
            ]
          },
          "metadata": {
            "tags": []
          },
          "execution_count": 12
        }
      ]
    },
    {
      "cell_type": "code",
      "metadata": {
        "id": "OxMlkr0Wjd25",
        "colab": {
          "base_uri": "https://localhost:8080/",
          "height": 161
        },
        "outputId": "df93520f-15e0-419b-d150-a1d9b153b022"
      },
      "source": [
        "# Median Value Imputation\n",
        "\n",
        "print(\"Total Missing Rows in 'Dep_Delay' Column :\",flights['dep_delay'].isna().sum())\n",
        "print(\"Last 6 Rows of 'Dep_Delay' Column\")\n",
        "print(flights.dep_delay.tail())"
      ],
      "execution_count": null,
      "outputs": [
        {
          "output_type": "stream",
          "text": [
            "Total Missing Rows in 'Dep_Delay' Column : 8255\n",
            "Last 6 Rows of 'Dep_Delay' Column\n",
            "336771   NaN\n",
            "336772   NaN\n",
            "336773   NaN\n",
            "336774   NaN\n",
            "336775   NaN\n",
            "Name: dep_delay, dtype: float64\n"
          ],
          "name": "stdout"
        }
      ]
    },
    {
      "cell_type": "code",
      "metadata": {
        "id": "7Zd-yXvimeRW",
        "colab": {
          "base_uri": "https://localhost:8080/",
          "height": 197
        },
        "outputId": "65601e29-37e2-40dd-f46f-ca84e4294469"
      },
      "source": [
        "# After Imputation with Median\n",
        "\n",
        "print(\"After Imputation with Median\")\n",
        "median = flights['dep_delay'].median()\n",
        "flights['dep_delay'].fillna(median, inplace = True)\n",
        "print(\"MEDIAN value of 'dep_delay' :\",median)\n",
        "print(\"Total Missing Rows now in 'Dep_Delay' :\",flights['dep_delay'].isna().sum())\n",
        "print(\"Last 6 Rows in 'Dep_Delay' Column\")\n",
        "print(flights.dep_delay.tail())"
      ],
      "execution_count": null,
      "outputs": [
        {
          "output_type": "stream",
          "text": [
            "After Imputation with Median\n",
            "MEDIAN value of 'dep_delay' : -2.0\n",
            "Total Missing Rows now in 'Dep_Delay' : 0\n",
            "Last 6 Rows in 'Dep_Delay' Column\n",
            "336771   -2.0\n",
            "336772   -2.0\n",
            "336773   -2.0\n",
            "336774   -2.0\n",
            "336775   -2.0\n",
            "Name: dep_delay, dtype: float64\n"
          ],
          "name": "stdout"
        }
      ]
    },
    {
      "cell_type": "code",
      "metadata": {
        "id": "ZJsRQS-YeagL",
        "colab": {
          "base_uri": "https://localhost:8080/",
          "height": 266
        },
        "outputId": "a02bd12e-30f5-4026-8475-5b4b53f0bb32"
      },
      "source": [
        "# Mode Imputation - Impute with a value that occur most often in a column\n",
        "\n",
        "# Initializing the list\n",
        "data = [['Sandipan',27,'male'],\n",
        "        ['Nandita',26,'female'],\n",
        "        ['Santosh',25,'male'],\n",
        "        ['Ashish',29,'male'],\n",
        "        ['Nishu',26,None],\n",
        "        ['Aisha',27,None],\n",
        "        ['Vaibhav',None,None]]\n",
        "\n",
        "# Creating Pandas Dataframe\n",
        "df = pd.DataFrame(data, columns = ['Name','Age','Gender'])\n",
        "df"
      ],
      "execution_count": null,
      "outputs": [
        {
          "output_type": "execute_result",
          "data": {
            "text/html": [
              "<div>\n",
              "<style scoped>\n",
              "    .dataframe tbody tr th:only-of-type {\n",
              "        vertical-align: middle;\n",
              "    }\n",
              "\n",
              "    .dataframe tbody tr th {\n",
              "        vertical-align: top;\n",
              "    }\n",
              "\n",
              "    .dataframe thead th {\n",
              "        text-align: right;\n",
              "    }\n",
              "</style>\n",
              "<table border=\"1\" class=\"dataframe\">\n",
              "  <thead>\n",
              "    <tr style=\"text-align: right;\">\n",
              "      <th></th>\n",
              "      <th>Name</th>\n",
              "      <th>Age</th>\n",
              "      <th>Gender</th>\n",
              "    </tr>\n",
              "  </thead>\n",
              "  <tbody>\n",
              "    <tr>\n",
              "      <th>0</th>\n",
              "      <td>Sandipan</td>\n",
              "      <td>27.0</td>\n",
              "      <td>male</td>\n",
              "    </tr>\n",
              "    <tr>\n",
              "      <th>1</th>\n",
              "      <td>Nandita</td>\n",
              "      <td>26.0</td>\n",
              "      <td>female</td>\n",
              "    </tr>\n",
              "    <tr>\n",
              "      <th>2</th>\n",
              "      <td>Santosh</td>\n",
              "      <td>25.0</td>\n",
              "      <td>male</td>\n",
              "    </tr>\n",
              "    <tr>\n",
              "      <th>3</th>\n",
              "      <td>Ashish</td>\n",
              "      <td>29.0</td>\n",
              "      <td>male</td>\n",
              "    </tr>\n",
              "    <tr>\n",
              "      <th>4</th>\n",
              "      <td>Nishu</td>\n",
              "      <td>26.0</td>\n",
              "      <td>None</td>\n",
              "    </tr>\n",
              "    <tr>\n",
              "      <th>5</th>\n",
              "      <td>Aisha</td>\n",
              "      <td>27.0</td>\n",
              "      <td>None</td>\n",
              "    </tr>\n",
              "    <tr>\n",
              "      <th>6</th>\n",
              "      <td>Vaibhav</td>\n",
              "      <td>NaN</td>\n",
              "      <td>None</td>\n",
              "    </tr>\n",
              "  </tbody>\n",
              "</table>\n",
              "</div>"
            ],
            "text/plain": [
              "       Name   Age  Gender\n",
              "0  Sandipan  27.0    male\n",
              "1   Nandita  26.0  female\n",
              "2   Santosh  25.0    male\n",
              "3    Ashish  29.0    male\n",
              "4     Nishu  26.0    None\n",
              "5     Aisha  27.0    None\n",
              "6   Vaibhav   NaN    None"
            ]
          },
          "metadata": {
            "tags": []
          },
          "execution_count": 15
        }
      ]
    },
    {
      "cell_type": "code",
      "metadata": {
        "id": "9QkxPuAFlr1o",
        "colab": {
          "base_uri": "https://localhost:8080/",
          "height": 107
        },
        "outputId": "981e71d1-ff94-4737-b7ae-b84b75f5947b"
      },
      "source": [
        "# Data Types in the dataset\n",
        "\n",
        "print(\"Datatypes present in the dataset\")\n",
        "df.dtypes"
      ],
      "execution_count": null,
      "outputs": [
        {
          "output_type": "stream",
          "text": [
            "Datatypes present in the dataset\n"
          ],
          "name": "stdout"
        },
        {
          "output_type": "execute_result",
          "data": {
            "text/plain": [
              "Name       object\n",
              "Age       float64\n",
              "Gender     object\n",
              "dtype: object"
            ]
          },
          "metadata": {
            "tags": []
          },
          "execution_count": 16
        }
      ]
    },
    {
      "cell_type": "code",
      "metadata": {
        "id": "8ZtNxubkksZN",
        "colab": {
          "base_uri": "https://localhost:8080/",
          "height": 266
        },
        "outputId": "0a9eeb0e-6f7b-4f22-e296-bed2d4e0d1e9"
      },
      "source": [
        "# Impute whole dataset with MODE\n",
        "\n",
        "# Filter columns with Object Datatype and fill with MODE\n",
        "df.select_dtypes(include = 'object').fillna(\n",
        "    df.select_dtypes(include='object').mode().iloc[0]\n",
        ")\n",
        "\n",
        "# Inference : \n",
        "# As we can observe all the values are imputed with MALE\n",
        "# In reality, missing values are 2 Females and 1 Male\n",
        "# So accuracy = 1/3 = 0.33 "
      ],
      "execution_count": null,
      "outputs": [
        {
          "output_type": "execute_result",
          "data": {
            "text/html": [
              "<div>\n",
              "<style scoped>\n",
              "    .dataframe tbody tr th:only-of-type {\n",
              "        vertical-align: middle;\n",
              "    }\n",
              "\n",
              "    .dataframe tbody tr th {\n",
              "        vertical-align: top;\n",
              "    }\n",
              "\n",
              "    .dataframe thead th {\n",
              "        text-align: right;\n",
              "    }\n",
              "</style>\n",
              "<table border=\"1\" class=\"dataframe\">\n",
              "  <thead>\n",
              "    <tr style=\"text-align: right;\">\n",
              "      <th></th>\n",
              "      <th>Name</th>\n",
              "      <th>Gender</th>\n",
              "    </tr>\n",
              "  </thead>\n",
              "  <tbody>\n",
              "    <tr>\n",
              "      <th>0</th>\n",
              "      <td>Sandipan</td>\n",
              "      <td>male</td>\n",
              "    </tr>\n",
              "    <tr>\n",
              "      <th>1</th>\n",
              "      <td>Nandita</td>\n",
              "      <td>female</td>\n",
              "    </tr>\n",
              "    <tr>\n",
              "      <th>2</th>\n",
              "      <td>Santosh</td>\n",
              "      <td>male</td>\n",
              "    </tr>\n",
              "    <tr>\n",
              "      <th>3</th>\n",
              "      <td>Ashish</td>\n",
              "      <td>male</td>\n",
              "    </tr>\n",
              "    <tr>\n",
              "      <th>4</th>\n",
              "      <td>Nishu</td>\n",
              "      <td>male</td>\n",
              "    </tr>\n",
              "    <tr>\n",
              "      <th>5</th>\n",
              "      <td>Aisha</td>\n",
              "      <td>male</td>\n",
              "    </tr>\n",
              "    <tr>\n",
              "      <th>6</th>\n",
              "      <td>Vaibhav</td>\n",
              "      <td>male</td>\n",
              "    </tr>\n",
              "  </tbody>\n",
              "</table>\n",
              "</div>"
            ],
            "text/plain": [
              "       Name  Gender\n",
              "0  Sandipan    male\n",
              "1   Nandita  female\n",
              "2   Santosh    male\n",
              "3    Ashish    male\n",
              "4     Nishu    male\n",
              "5     Aisha    male\n",
              "6   Vaibhav    male"
            ]
          },
          "metadata": {
            "tags": []
          },
          "execution_count": 17
        }
      ]
    },
    {
      "cell_type": "code",
      "metadata": {
        "id": "V52E6MCSleT8",
        "colab": {
          "base_uri": "https://localhost:8080/",
          "height": 266
        },
        "outputId": "f17c61cd-1a2d-4b37-84e3-2d0de9b7c5ab"
      },
      "source": [
        "# Impute whole dataset with MEDIAN\n",
        "\n",
        "# Filter columns with Float and Integer datatypes and fill with MEDIAN\n",
        "df.select_dtypes(include='float64').fillna(\n",
        "    df.select_dtypes(include='float64').median().iloc[0]\n",
        ")"
      ],
      "execution_count": null,
      "outputs": [
        {
          "output_type": "execute_result",
          "data": {
            "text/html": [
              "<div>\n",
              "<style scoped>\n",
              "    .dataframe tbody tr th:only-of-type {\n",
              "        vertical-align: middle;\n",
              "    }\n",
              "\n",
              "    .dataframe tbody tr th {\n",
              "        vertical-align: top;\n",
              "    }\n",
              "\n",
              "    .dataframe thead th {\n",
              "        text-align: right;\n",
              "    }\n",
              "</style>\n",
              "<table border=\"1\" class=\"dataframe\">\n",
              "  <thead>\n",
              "    <tr style=\"text-align: right;\">\n",
              "      <th></th>\n",
              "      <th>Age</th>\n",
              "    </tr>\n",
              "  </thead>\n",
              "  <tbody>\n",
              "    <tr>\n",
              "      <th>0</th>\n",
              "      <td>27.0</td>\n",
              "    </tr>\n",
              "    <tr>\n",
              "      <th>1</th>\n",
              "      <td>26.0</td>\n",
              "    </tr>\n",
              "    <tr>\n",
              "      <th>2</th>\n",
              "      <td>25.0</td>\n",
              "    </tr>\n",
              "    <tr>\n",
              "      <th>3</th>\n",
              "      <td>29.0</td>\n",
              "    </tr>\n",
              "    <tr>\n",
              "      <th>4</th>\n",
              "      <td>26.0</td>\n",
              "    </tr>\n",
              "    <tr>\n",
              "      <th>5</th>\n",
              "      <td>27.0</td>\n",
              "    </tr>\n",
              "    <tr>\n",
              "      <th>6</th>\n",
              "      <td>26.5</td>\n",
              "    </tr>\n",
              "  </tbody>\n",
              "</table>\n",
              "</div>"
            ],
            "text/plain": [
              "    Age\n",
              "0  27.0\n",
              "1  26.0\n",
              "2  25.0\n",
              "3  29.0\n",
              "4  26.0\n",
              "5  27.0\n",
              "6  26.5"
            ]
          },
          "metadata": {
            "tags": []
          },
          "execution_count": 18
        }
      ]
    },
    {
      "cell_type": "code",
      "metadata": {
        "id": "8aFZUtClnYiz",
        "colab": {
          "base_uri": "https://localhost:8080/",
          "height": 173
        },
        "outputId": "3ef5ad80-a4ea-443b-c0cd-a819261e982d"
      },
      "source": [
        "# KNN Imputation\n",
        "\n",
        "# First create a small dataframe with missing values in it\n",
        "dict = {'First':[100, 90, np.nan, 95], \n",
        "        'Second': [30, 45, 56, np.nan], \n",
        "        'Third':[np.nan, 40, 80, 98]} \n",
        "  \n",
        "# Creating a dataframe from list \n",
        "df = pd.DataFrame(dict)\n",
        "df"
      ],
      "execution_count": null,
      "outputs": [
        {
          "output_type": "execute_result",
          "data": {
            "text/html": [
              "<div>\n",
              "<style scoped>\n",
              "    .dataframe tbody tr th:only-of-type {\n",
              "        vertical-align: middle;\n",
              "    }\n",
              "\n",
              "    .dataframe tbody tr th {\n",
              "        vertical-align: top;\n",
              "    }\n",
              "\n",
              "    .dataframe thead th {\n",
              "        text-align: right;\n",
              "    }\n",
              "</style>\n",
              "<table border=\"1\" class=\"dataframe\">\n",
              "  <thead>\n",
              "    <tr style=\"text-align: right;\">\n",
              "      <th></th>\n",
              "      <th>First</th>\n",
              "      <th>Second</th>\n",
              "      <th>Third</th>\n",
              "    </tr>\n",
              "  </thead>\n",
              "  <tbody>\n",
              "    <tr>\n",
              "      <th>0</th>\n",
              "      <td>100.0</td>\n",
              "      <td>30.0</td>\n",
              "      <td>NaN</td>\n",
              "    </tr>\n",
              "    <tr>\n",
              "      <th>1</th>\n",
              "      <td>90.0</td>\n",
              "      <td>45.0</td>\n",
              "      <td>40.0</td>\n",
              "    </tr>\n",
              "    <tr>\n",
              "      <th>2</th>\n",
              "      <td>NaN</td>\n",
              "      <td>56.0</td>\n",
              "      <td>80.0</td>\n",
              "    </tr>\n",
              "    <tr>\n",
              "      <th>3</th>\n",
              "      <td>95.0</td>\n",
              "      <td>NaN</td>\n",
              "      <td>98.0</td>\n",
              "    </tr>\n",
              "  </tbody>\n",
              "</table>\n",
              "</div>"
            ],
            "text/plain": [
              "   First  Second  Third\n",
              "0  100.0    30.0    NaN\n",
              "1   90.0    45.0   40.0\n",
              "2    NaN    56.0   80.0\n",
              "3   95.0     NaN   98.0"
            ]
          },
          "metadata": {
            "tags": []
          },
          "execution_count": 19
        }
      ]
    },
    {
      "cell_type": "code",
      "metadata": {
        "id": "XvihCoqoaqz6",
        "colab": {
          "base_uri": "https://localhost:8080/",
          "height": 89
        },
        "outputId": "14004bb5-ee5d-475e-cf76-d42c80dcf831"
      },
      "source": [
        "# Intializing KNN imputation\n",
        "\n",
        "imputer = KNNImputer()\n",
        "df_filled = imputer.fit_transform(df)\n",
        "df_filled\n",
        "\n",
        "# Inference :\n",
        "# As you can see below, that’s the entire missing value is imputated\n",
        "# It’s as simple using median but more effective and accurate than using a simple average"
      ],
      "execution_count": null,
      "outputs": [
        {
          "output_type": "execute_result",
          "data": {
            "text/plain": [
              "array([[100.        ,  30.        ,  72.66666667],\n",
              "       [ 90.        ,  45.        ,  40.        ],\n",
              "       [ 95.        ,  56.        ,  80.        ],\n",
              "       [ 95.        ,  43.66666667,  98.        ]])"
            ]
          },
          "metadata": {
            "tags": []
          },
          "execution_count": 20
        }
      ]
    },
    {
      "cell_type": "code",
      "metadata": {
        "id": "Xl1sUerkfCIl",
        "colab": {
          "base_uri": "https://localhost:8080/",
          "height": 266
        },
        "outputId": "adb1aaa3-81e5-4f54-ab49-82438db29d02"
      },
      "source": [
        "# Another Example of KNN Imputation\n",
        "\n",
        "# Initializing the list\n",
        "data = [['Sandipan',27,'male'],\n",
        "        ['Nandita',26,'female'],\n",
        "        ['Santosh',25,'male'],\n",
        "        ['Ashish',29,'male'],\n",
        "        ['Nishu',26,None],\n",
        "        ['Aisha',27,None],\n",
        "        ['Vaibhav',28,None]]\n",
        "\n",
        "# Creating Pandas Dataframe\n",
        "df = pd.DataFrame(data, columns = ['Name','Age','Gender'])\n",
        "df"
      ],
      "execution_count": null,
      "outputs": [
        {
          "output_type": "execute_result",
          "data": {
            "text/html": [
              "<div>\n",
              "<style scoped>\n",
              "    .dataframe tbody tr th:only-of-type {\n",
              "        vertical-align: middle;\n",
              "    }\n",
              "\n",
              "    .dataframe tbody tr th {\n",
              "        vertical-align: top;\n",
              "    }\n",
              "\n",
              "    .dataframe thead th {\n",
              "        text-align: right;\n",
              "    }\n",
              "</style>\n",
              "<table border=\"1\" class=\"dataframe\">\n",
              "  <thead>\n",
              "    <tr style=\"text-align: right;\">\n",
              "      <th></th>\n",
              "      <th>Name</th>\n",
              "      <th>Age</th>\n",
              "      <th>Gender</th>\n",
              "    </tr>\n",
              "  </thead>\n",
              "  <tbody>\n",
              "    <tr>\n",
              "      <th>0</th>\n",
              "      <td>Sandipan</td>\n",
              "      <td>27</td>\n",
              "      <td>male</td>\n",
              "    </tr>\n",
              "    <tr>\n",
              "      <th>1</th>\n",
              "      <td>Nandita</td>\n",
              "      <td>26</td>\n",
              "      <td>female</td>\n",
              "    </tr>\n",
              "    <tr>\n",
              "      <th>2</th>\n",
              "      <td>Santosh</td>\n",
              "      <td>25</td>\n",
              "      <td>male</td>\n",
              "    </tr>\n",
              "    <tr>\n",
              "      <th>3</th>\n",
              "      <td>Ashish</td>\n",
              "      <td>29</td>\n",
              "      <td>male</td>\n",
              "    </tr>\n",
              "    <tr>\n",
              "      <th>4</th>\n",
              "      <td>Nishu</td>\n",
              "      <td>26</td>\n",
              "      <td>None</td>\n",
              "    </tr>\n",
              "    <tr>\n",
              "      <th>5</th>\n",
              "      <td>Aisha</td>\n",
              "      <td>27</td>\n",
              "      <td>None</td>\n",
              "    </tr>\n",
              "    <tr>\n",
              "      <th>6</th>\n",
              "      <td>Vaibhav</td>\n",
              "      <td>28</td>\n",
              "      <td>None</td>\n",
              "    </tr>\n",
              "  </tbody>\n",
              "</table>\n",
              "</div>"
            ],
            "text/plain": [
              "       Name  Age  Gender\n",
              "0  Sandipan   27    male\n",
              "1   Nandita   26  female\n",
              "2   Santosh   25    male\n",
              "3    Ashish   29    male\n",
              "4     Nishu   26    None\n",
              "5     Aisha   27    None\n",
              "6   Vaibhav   28    None"
            ]
          },
          "metadata": {
            "tags": []
          },
          "execution_count": 21
        }
      ]
    },
    {
      "cell_type": "code",
      "metadata": {
        "id": "0MxzeX8CfqpZ",
        "colab": {
          "base_uri": "https://localhost:8080/",
          "height": 266
        },
        "outputId": "ff66871a-64f9-4ded-9b3e-62458ae5491a"
      },
      "source": [
        "# For imputing missing values in categorical variables\n",
        "\n",
        "# We have to encode the categorical values into numeric values\n",
        "# kNNImputer works only for numeric variables\n",
        "# We can perform this using a mapping of categories to numeric variables.\n",
        "# Mapping Gender values to 0 and 1\n",
        "\n",
        "df['GenderMap'] = df.Gender.map({'female' : 1, 'male' : 0})\n",
        "df"
      ],
      "execution_count": null,
      "outputs": [
        {
          "output_type": "execute_result",
          "data": {
            "text/html": [
              "<div>\n",
              "<style scoped>\n",
              "    .dataframe tbody tr th:only-of-type {\n",
              "        vertical-align: middle;\n",
              "    }\n",
              "\n",
              "    .dataframe tbody tr th {\n",
              "        vertical-align: top;\n",
              "    }\n",
              "\n",
              "    .dataframe thead th {\n",
              "        text-align: right;\n",
              "    }\n",
              "</style>\n",
              "<table border=\"1\" class=\"dataframe\">\n",
              "  <thead>\n",
              "    <tr style=\"text-align: right;\">\n",
              "      <th></th>\n",
              "      <th>Name</th>\n",
              "      <th>Age</th>\n",
              "      <th>Gender</th>\n",
              "      <th>GenderMap</th>\n",
              "    </tr>\n",
              "  </thead>\n",
              "  <tbody>\n",
              "    <tr>\n",
              "      <th>0</th>\n",
              "      <td>Sandipan</td>\n",
              "      <td>27</td>\n",
              "      <td>male</td>\n",
              "      <td>0.0</td>\n",
              "    </tr>\n",
              "    <tr>\n",
              "      <th>1</th>\n",
              "      <td>Nandita</td>\n",
              "      <td>26</td>\n",
              "      <td>female</td>\n",
              "      <td>1.0</td>\n",
              "    </tr>\n",
              "    <tr>\n",
              "      <th>2</th>\n",
              "      <td>Santosh</td>\n",
              "      <td>25</td>\n",
              "      <td>male</td>\n",
              "      <td>0.0</td>\n",
              "    </tr>\n",
              "    <tr>\n",
              "      <th>3</th>\n",
              "      <td>Ashish</td>\n",
              "      <td>29</td>\n",
              "      <td>male</td>\n",
              "      <td>0.0</td>\n",
              "    </tr>\n",
              "    <tr>\n",
              "      <th>4</th>\n",
              "      <td>Nishu</td>\n",
              "      <td>26</td>\n",
              "      <td>None</td>\n",
              "      <td>NaN</td>\n",
              "    </tr>\n",
              "    <tr>\n",
              "      <th>5</th>\n",
              "      <td>Aisha</td>\n",
              "      <td>27</td>\n",
              "      <td>None</td>\n",
              "      <td>NaN</td>\n",
              "    </tr>\n",
              "    <tr>\n",
              "      <th>6</th>\n",
              "      <td>Vaibhav</td>\n",
              "      <td>28</td>\n",
              "      <td>None</td>\n",
              "      <td>NaN</td>\n",
              "    </tr>\n",
              "  </tbody>\n",
              "</table>\n",
              "</div>"
            ],
            "text/plain": [
              "       Name  Age  Gender  GenderMap\n",
              "0  Sandipan   27    male        0.0\n",
              "1   Nandita   26  female        1.0\n",
              "2   Santosh   25    male        0.0\n",
              "3    Ashish   29    male        0.0\n",
              "4     Nishu   26    None        NaN\n",
              "5     Aisha   27    None        NaN\n",
              "6   Vaibhav   28    None        NaN"
            ]
          },
          "metadata": {
            "tags": []
          },
          "execution_count": 22
        }
      ]
    },
    {
      "cell_type": "code",
      "metadata": {
        "id": "cehhcP2ngP3b",
        "colab": {
          "base_uri": "https://localhost:8080/",
          "height": 143
        },
        "outputId": "a9141e22-5633-43f4-8db8-ccbdeaf5b2ff"
      },
      "source": [
        "# Normally Name of a person don't help in the model\n",
        "\n",
        "imputer = KNNImputer(n_neighbors=1) \n",
        "# k=1, we can take any number and check after every irritation\n",
        "df_filled = imputer.fit_transform(df[['Age','GenderMap']])\n",
        "df_filled \n",
        "\n",
        "# Inference : \n",
        "# In reality, Missing values are 2 Females as 1 and 1 Male as 0\n",
        "# MODE method, it gave all 3 missing values as Male \n",
        "# Mode accuracy = 1/3 = 0.33\n",
        "# KNN method, imputation is 1 Female and 2 Male\n",
        "# KNN accuracy = 2/3 = 0.66\n",
        "# Normally KNN works better than simple Median and Mode imputation "
      ],
      "execution_count": null,
      "outputs": [
        {
          "output_type": "execute_result",
          "data": {
            "text/plain": [
              "array([[27.,  0.],\n",
              "       [26.,  1.],\n",
              "       [25.,  0.],\n",
              "       [29.,  0.],\n",
              "       [26.,  1.],\n",
              "       [27.,  0.],\n",
              "       [28.,  0.]])"
            ]
          },
          "metadata": {
            "tags": []
          },
          "execution_count": 23
        }
      ]
    }
  ]
}